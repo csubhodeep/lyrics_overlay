{
  "nbformat": 4,
  "nbformat_minor": 0,
  "metadata": {
    "colab": {
      "name": "lyrics_overlay.ipynb",
      "provenance": [],
      "collapsed_sections": [],
      "toc_visible": true,
      "include_colab_link": true
    },
    "kernelspec": {
      "display_name": "Python 3",
      "name": "python3"
    }
  },
  "cells": [
    {
      "cell_type": "markdown",
      "metadata": {
        "id": "view-in-github",
        "colab_type": "text"
      },
      "source": [
        "<a href=\"https://colab.research.google.com/github/csubhodeep/lyrics_overlay/blob/develop/exp/lyrics_overlay.ipynb\" target=\"_parent\"><img src=\"https://colab.research.google.com/assets/colab-badge.svg\" alt=\"Open In Colab\"/></a>"
      ]
    },
    {
      "cell_type": "markdown",
      "metadata": {
        "id": "XyBSNDA_raVA"
      },
      "source": [
        "# Inference"
      ]
    },
    {
      "cell_type": "code",
      "metadata": {
        "id": "xBC6c4X6rV6N"
      },
      "source": [
        ""
      ],
      "execution_count": null,
      "outputs": []
    },
    {
      "cell_type": "code",
      "metadata": {
        "id": "6xXeHMmjrV8o"
      },
      "source": [
        ""
      ],
      "execution_count": null,
      "outputs": []
    },
    {
      "cell_type": "code",
      "metadata": {
        "colab": {
          "base_uri": "https://localhost:8080/"
        },
        "id": "zE0LbKArrr95",
        "outputId": "2bced54a-1cba-451a-eef9-b4cfab0b13e9"
      },
      "source": [
        "from google.colab import drive\n",
        "drive.mount('/content/drive')"
      ],
      "execution_count": null,
      "outputs": [
        {
          "output_type": "stream",
          "text": [
            "Mounted at /content/drive\n"
          ],
          "name": "stdout"
        }
      ]
    },
    {
      "cell_type": "code",
      "metadata": {
        "id": "6Wce5Skqp2yC"
      },
      "source": [
        "import matplotlib.pyplot as plt\n",
        "import numpy as np\n",
        "from PIL import Image"
      ],
      "execution_count": null,
      "outputs": []
    },
    {
      "cell_type": "code",
      "metadata": {
        "id": "-Pxeqlx5rpBt"
      },
      "source": [
        "img = Image.open('./drive/MyDrive/ColabNotebooks/lyrics_overlay_project/data/test2.png')"
      ],
      "execution_count": null,
      "outputs": []
    },
    {
      "cell_type": "code",
      "metadata": {
        "id": "8CxUHBhyvWn6"
      },
      "source": [
        "grey_image = img.convert('LA')"
      ],
      "execution_count": null,
      "outputs": []
    },
    {
      "cell_type": "code",
      "metadata": {
        "colab": {
          "base_uri": "https://localhost:8080/",
          "height": 117
        },
        "id": "RgyO-LMgqT1m",
        "outputId": "a7450de0-b538-4c8d-b110-fda66b91eb9d"
      },
      "source": [
        "grey_image"
      ],
      "execution_count": null,
      "outputs": [
        {
          "output_type": "execute_result",
          "data": {
            "image/png": "[encoded data removed]",
            "text/plain": [
              "<PIL.Image.Image image mode=LA size=100x100 at 0x7F1174254D68>"
            ]
          },
          "metadata": {
            "tags": []
          },
          "execution_count": 47
        }
      ]
    },
    {
      "cell_type": "code",
      "metadata": {
        "id": "5wrZH3WGrlnj"
      },
      "source": [
        "from sklearn.preprocessing import MinMaxScaler"
      ],
      "execution_count": null,
      "outputs": []
    },
    {
      "cell_type": "code",
      "metadata": {
        "id": "L5CyYkBis71J"
      },
      "source": [
        "grey_image_array = np.array(grey_image)[:,:,0]"
      ],
      "execution_count": null,
      "outputs": []
    },
    {
      "cell_type": "code",
      "metadata": {
        "id": "GmFdRjc8rsX8"
      },
      "source": [
        "grey_image_array_normalized = MinMaxScaler().fit_transform(grey_image_array)"
      ],
      "execution_count": null,
      "outputs": []
    },
    {
      "cell_type": "markdown",
      "metadata": {
        "id": "BEZIgzV8pWu4"
      },
      "source": [
        "# Get inferred (segmented) image\n",
        "\n",
        "Assumptions:\n",
        "1. The segmentation initially is in the form of rectangular boxes.\n",
        "2. The input frame is in grey-scale (B&W) and the region inside the bounding box will be filled with black color. (We keep this assumption till we implement the pre-processing function)\n"
      ]
    },
    {
      "cell_type": "code",
      "metadata": {
        "id": "8u_rWjgJ7ELp"
      },
      "source": [
        "from typing import List, Tuple\n",
        "import matplotlib.pyplot as plt\n",
        "import numpy as np"
      ],
      "execution_count": null,
      "outputs": []
    },
    {
      "cell_type": "code",
      "metadata": {
        "id": "QHSk5xnRs4cs"
      },
      "source": [
        "input_words_dict = {'t_0': ['main', 'gaa', 'raha', 'hoon']}"
      ],
      "execution_count": null,
      "outputs": []
    },
    {
      "cell_type": "code",
      "metadata": {
        "id": "RIclvsiJtsZZ"
      },
      "source": [
        "formations_dict = {\n",
        "    1: \n",
        "}"
      ],
      "execution_count": null,
      "outputs": []
    },
    {
      "cell_type": "code",
      "metadata": {
        "id": "n_HcrD0jCe-N"
      },
      "source": [
        "def text_fits_box(text: str,\n",
        "                  font_size: int,\n",
        "                  height: int,\n",
        "                  width: int\n",
        "                  ) -> bool:\n",
        "    \n",
        "    # assuming a particular formation e.g. for now one word comes under another\n",
        "\n",
        "    area_of_box = height*width\n",
        "\n",
        "    return area_of_box > 20 and width > 10 and height > 10 and height == width"
      ],
      "execution_count": null,
      "outputs": []
    },
    {
      "cell_type": "code",
      "metadata": {
        "id": "bHEzMC9pEZYG"
      },
      "source": [
        "def get_nearness_to_preferred_centre(centre_1: Tuple[int, int], \n",
        "                                     centre_2: Tuple[int, int])->int:\n",
        "\n",
        "    return ((centre_1[0]-centre_2[0])**2+(centre_1[1]-centre_2[1])**2)**(0.5)"
      ],
      "execution_count": null,
      "outputs": []
    },
    {
      "cell_type": "code",
      "metadata": {
        "id": "homz1rylGmXL"
      },
      "source": [
        "def get_overlap_with_mask(image: np.ndarray, \n",
        "                          lyrics_box_coords: Tuple[Tuple[int,int], Tuple[int,int]],\n",
        "                          padding: int):\n",
        "    \n",
        "    width = abs(lyrics_box_coords[1][0] - lyrics_box_coords[0][0])\n",
        "    height = abs(lyrics_box_coords[1][1] - lyrics_box_coords[0][1])\n",
        "    box_array = np.ones(shape=[height+padding, width+padding])\n",
        "\n",
        "    cropped_image_array = image[lyrics_box_coords[0][1]-padding//2:lyrics_box_coords[1][1]+padding//2, lyrics_box_coords[0][0]-padding//2:lyrics_box_coords[1][0]+padding//2]\n",
        "\n",
        "    score = (box_array*cropped_image_array).sum()\n",
        "\n",
        "    return score"
      ],
      "execution_count": null,
      "outputs": []
    },
    {
      "cell_type": "code",
      "metadata": {
        "id": "6PdQzY6s2-ll"
      },
      "source": [
        "# define loss/cost function\n",
        "def get_loss(x, # diagonal coords only,\n",
        "             preffered_centre_coords: Tuple[int, int],\n",
        "             binary_mask: np.ndarray,\n",
        "             text: str,\n",
        "             padding: int = 10,\n",
        "             font_size: int = 1, # this should be varied from outside\n",
        "             n_bbox: int = 1) -> float:\n",
        "    w1 = 0.2\n",
        "    w2 = 0.8\n",
        "\n",
        "    lyrics_box_coords: Tuple[Tuple[int,int], Tuple[int, int]] = ((int(x[0]), int(x[1])), (int(x[2]), int(x[3])))\n",
        "    \n",
        "    if  lyrics_box_coords[0][0] > lyrics_box_coords[1][0] or lyrics_box_coords[0][1] > lyrics_box_coords[1][1]:\n",
        "        loss = 100\n",
        "    else:\n",
        "        width_of_box = abs(lyrics_box_coords[1][0] - lyrics_box_coords[0][0])\n",
        "        height_of_box = abs(lyrics_box_coords[1][1] - lyrics_box_coords[0][1])\n",
        "\n",
        "        box_centre = ((lyrics_box_coords[1][0] + lyrics_box_coords[0][0])//2, (lyrics_box_coords[0][1] + lyrics_box_coords[1][1])//2)\n",
        "\n",
        "        # TODO: why not exclude certain solutions before triggering the opti algo for faster convergence\n",
        "        if not text_fits_box(text, font_size, height_of_box, width_of_box):\n",
        "            loss = 1000\n",
        "        else:\n",
        "            nearness_to_preferred_centre = get_nearness_to_preferred_centre(centre_1=preffered_centre_coords,\n",
        "                                                                            centre_2=box_centre)\n",
        "            overlap_with_mask = get_overlap_with_mask(image=binary_mask,\n",
        "                                                    lyrics_box_coords=lyrics_box_coords,\n",
        "                                                    padding=padding)\n",
        "            loss = w1*nearness_to_preferred_centre + w2*(overlap_with_mask)\n",
        "    \n",
        "    return loss"
      ],
      "execution_count": null,
      "outputs": []
    },
    {
      "cell_type": "code",
      "metadata": {
        "id": "2z1P5jk2fC_w"
      },
      "source": [
        "def get_preferred_centre():\n",
        "\n",
        "    # get the centre of the patches\n",
        "\n",
        "    # then find the centre of the centres - naive centre\n",
        "\n",
        "    # then find the nearest points in all the patches from the naive centre\n",
        "\n",
        "    # calculate a new centre using the nearest points\n",
        "\n",
        "    return (50,50)"
      ],
      "execution_count": null,
      "outputs": []
    },
    {
      "cell_type": "code",
      "metadata": {
        "id": "SFWSjibOBfFm"
      },
      "source": [
        "binary_mask = np.zeros([100,100])"
      ],
      "execution_count": null,
      "outputs": []
    },
    {
      "cell_type": "code",
      "metadata": {
        "id": "OFX_aGdXMj0G"
      },
      "source": [
        "binary_mask[20:80, 20:30] = 1\n",
        "binary_mask[40:60, 60:80] = 1"
      ],
      "execution_count": null,
      "outputs": []
    },
    {
      "cell_type": "code",
      "metadata": {
        "colab": {
          "base_uri": "https://localhost:8080/",
          "height": 285
        },
        "id": "gbnoHgekNED2",
        "outputId": "39befdd4-51d2-4199-feba-e87b238019f7"
      },
      "source": [
        "plt.imshow(binary_mask)"
      ],
      "execution_count": null,
      "outputs": [
        {
          "output_type": "execute_result",
          "data": {
            "text/plain": [
              "<matplotlib.image.AxesImage at 0x7f1169a7b9e8>"
            ]
          },
          "metadata": {
            "tags": []
          },
          "execution_count": 257
        },
        {
          "output_type": "display_data",
          "data": {
            "image/png": "[encoded data removed]",
            "text/plain": [
              "<Figure size 432x288 with 1 Axes>"
            ]
          },
          "metadata": {
            "tags": [],
            "needs_background": "light"
          }
        }
      ]
    },
    {
      "cell_type": "code",
      "metadata": {
        "id": "4TYfG4CLdiit"
      },
      "source": [
        "# hyper parameters\n",
        "preferred_centre = get_preferred_centre()\n",
        "lyrics = \"I love you\"\n",
        "padding=10\n",
        "min_ = 0+padding//2\n",
        "max_ = 100-padding//2\n",
        "limits = ((min_,max_), (min_,max_), (min_,max_), (min_,max_),)"
      ],
      "execution_count": null,
      "outputs": []
    },
    {
      "cell_type": "code",
      "metadata": {
        "id": "wEqwzAzINFIn"
      },
      "source": [
        "res = differential_evolution(get_loss, \n",
        "                             bounds=limits, \n",
        "                             args=(preferred_centre,binary_mask,lyrics,padding)\n",
        "                             )"
      ],
      "execution_count": null,
      "outputs": []
    },
    {
      "cell_type": "code",
      "metadata": {
        "colab": {
          "base_uri": "https://localhost:8080/"
        },
        "id": "HDKo_xwuPoKU",
        "outputId": "e2989d05-dacb-48f2-b846-eb363f84e87b"
      },
      "source": [
        "res"
      ],
      "execution_count": null,
      "outputs": [
        {
          "output_type": "execute_result",
          "data": {
            "text/plain": [
              "     fun: 0.2\n",
              " message: 'Optimization terminated successfully.'\n",
              "    nfev: 11765\n",
              "     nit: 195\n",
              " success: True\n",
              "       x: array([43.07175714, 44.87712096, 55.89082285, 56.24253652])"
            ]
          },
          "metadata": {
            "tags": []
          },
          "execution_count": 272
        }
      ]
    },
    {
      "cell_type": "code",
      "metadata": {
        "id": "l0HlNkMwSJXd"
      },
      "source": [
        "optimal_coords = ((int(round(res.x[0])), int(round(res.x[1]))), (int(round(res.x[2])), int(round(res.x[3]))))"
      ],
      "execution_count": null,
      "outputs": []
    },
    {
      "cell_type": "code",
      "metadata": {
        "id": "V_BblszGSqE8"
      },
      "source": [
        "new_binary_mask = binary_mask\n",
        "new_binary_mask[optimal_coords[0][1]:optimal_coords[1][1], optimal_coords[0][0]:optimal_coords[1][0]] = -1"
      ],
      "execution_count": null,
      "outputs": []
    },
    {
      "cell_type": "code",
      "metadata": {
        "colab": {
          "base_uri": "https://localhost:8080/",
          "height": 285
        },
        "id": "a-SMYGsAS8hE",
        "outputId": "d433f4cd-2f92-4392-afba-536eff89e1f0"
      },
      "source": [
        "plt.imshow(new_binary_mask)"
      ],
      "execution_count": null,
      "outputs": [
        {
          "output_type": "execute_result",
          "data": {
            "text/plain": [
              "<matplotlib.image.AxesImage at 0x7f1169954b00>"
            ]
          },
          "metadata": {
            "tags": []
          },
          "execution_count": 275
        },
        {
          "output_type": "display_data",
          "data": {
            "image/png": "[encoded data removed]",
            "text/plain": [
              "<Figure size 432x288 with 1 Axes>"
            ]
          },
          "metadata": {
            "tags": [],
            "needs_background": "light"
          }
        }
      ]
    },
    {
      "cell_type": "code",
      "metadata": {
        "id": "LjvCyfYiTC2v"
      },
      "source": [
        "from typing import List\n",
        "\n",
        "def len_of_text_list(text: List):\n",
        "  text_pad = 1\n",
        "  length = text_pad # text pad for left side\n",
        "  for word in text:\n",
        "    length += len(word)\n",
        "    length += 1 # added for a space between word\n",
        "  length += text_pad # adding text pad for right side\n",
        "  return length\n",
        "\n",
        "def text_fits_box(text: List,\n",
        "                  font_size: int,\n",
        "                  form: int, # 1,2,3 \n",
        "                  height: int,\n",
        "                  width: int\n",
        "                  ) -> bool:\n",
        "    \n",
        "    n_words = len(text)\n",
        "    max_length = 0\n",
        "    for i in range(0,len(text)-form,form):\n",
        "      if i+form < len(text):\n",
        "        last_index = i+form\n",
        "      else:\n",
        "        last_index = len(text)-1\n",
        "      curr_length = len_of_text_list(text[i:last_index])\n",
        "      max_length = max(curr_length,max_length)\n",
        "    \n",
        "    #max length will never be zero\n",
        "    expected_width = max_length*font_size\n",
        "    expected_height = (n_words/form)*font_size\n",
        "\n",
        "    return expected_width <= width and expected_height <= height"
      ],
      "execution_count": null,
      "outputs": []
    },
    {
      "cell_type": "code",
      "metadata": {
        "colab": {
          "base_uri": "https://localhost:8080/"
        },
        "id": "-tPyUleTVc6E",
        "outputId": "76ff974c-2200-4cbc-fa27-72ccc36bfa41"
      },
      "source": [
        "print(text_fits_box(['i','want','passive','income'],4,2,20,20))   # form=2 so len('_passive_income_') = 16  and 16*4 = 64 > 20 so it cant fit\n",
        "print(text_fits_box(['i','want','passive','income'],4,2,20,65))   # form=2 so len('_passive_income_') = 16  and 16*4 = 64 < 65 so it can fit"
      ],
      "execution_count": null,
      "outputs": [
        {
          "output_type": "stream",
          "text": [
            "False\n",
            "True\n"
          ],
          "name": "stdout"
        }
      ]
    },
    {
      "cell_type": "code",
      "metadata": {
        "colab": {
          "base_uri": "https://localhost:8080/"
        },
        "id": "FNhSRu2uV7wx",
        "outputId": "e36fc99b-a847-4413-f20c-39f11916a901"
      },
      "source": [
        "text_fits_box(['i'],4,1,20,20)"
      ],
      "execution_count": null,
      "outputs": [
        {
          "output_type": "execute_result",
          "data": {
            "text/plain": [
              "True"
            ]
          },
          "metadata": {
            "tags": []
          },
          "execution_count": 15
        }
      ]
    },
    {
      "cell_type": "code",
      "metadata": {
        "id": "BPspIdl3WpCw"
      },
      "source": [
        ""
      ],
      "execution_count": null,
      "outputs": []
    }
  ]
}