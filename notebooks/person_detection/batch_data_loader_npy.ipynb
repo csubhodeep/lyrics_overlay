{
 "cells": [
  {
   "cell_type": "code",
   "execution_count": 6,
   "id": "059718c0-fe4d-4c67-aa21-0432089ec6b8",
   "metadata": {},
   "outputs": [],
   "source": [
    "import torch\n",
    "from PIL import Image\n",
    "from torch.autograd import Variable\n",
    "from torchvision.transforms import Compose\n",
    "from torchvision.transforms import Pad\n",
    "from torchvision.transforms import Resize\n",
    "from torchvision.transforms import ToTensor\n",
    "from torchvision import transforms\n",
    "from torch.utils.data import Dataset\n",
    "from torchvision import datasets\n",
    "data = \"/Users/nik/Work/lyrics_overlay/photos\"\n",
    "data = \"/Users/nik/Work/lyrics_overlay/data/pre_processor_output\""
   ]
  },
  {
   "cell_type": "code",
   "execution_count": 7,
   "id": "fcb5fb16-7d8d-4c74-b7d8-b47de10ec81c",
   "metadata": {},
   "outputs": [],
   "source": [
    "import numpy as np\n",
    "import cv2\n",
    "def npy_loader(path):\n",
    "    numpy_image = np.load(path)\n",
    "    frame = cv2.cvtColor(numpy_image, cv2.COLOR_BGR2RGB)\n",
    "    pilimg = Image.fromarray(frame)\n",
    "    return pilimg\n",
    "\n",
    "class ImageFolderWithPaths(datasets.DatasetFolder):\n",
    "    \"\"\"Custom dataset that includes image file paths. Extends\n",
    "    torchvision.datasets.ImageFolder\n",
    "    \"\"\"\n",
    "\n",
    "    # override the __getitem__ method. this is the method that dataloader calls\n",
    "    def __getitem__(self, index):\n",
    "        # this is what ImageFolder normally returns \n",
    "        original_tuple = super(ImageFolderWithPaths, self).__getitem__(index)\n",
    "        # the image file path\n",
    "        path = self.samples[index][0]\n",
    "        # make a new tuple that includes original and the path\n",
    "        tuple_with_path = (original_tuple + (path,))\n",
    "        return tuple_with_path"
   ]
  },
  {
   "cell_type": "code",
   "execution_count": 8,
   "id": "560f2edb-c18c-456e-85ce-bf2054295a71",
   "metadata": {},
   "outputs": [],
   "source": [
    "data_transforms = {\n",
    "    'predict': transforms.Compose([\n",
    "        transforms.RandomResizedCrop(224),\n",
    "        transforms.RandomHorizontalFlip(),\n",
    "        transforms.ToTensor(),\n",
    "        transforms.Normalize([0.485, 0.456, 0.406], [0.229, 0.224, 0.225])\n",
    "    ])\n",
    "    }"
   ]
  },
  {
   "cell_type": "code",
   "execution_count": 11,
   "id": "c3e54fbd-aab3-4c14-9c40-0d3e9dcf7dba",
   "metadata": {},
   "outputs": [],
   "source": [
    "dataset = ImageFolderWithPaths(data, transform=data_transforms['predict'], loader=npy_loader, extensions=('.npy'))\n",
    "dataloader = torch.utils.data.DataLoader(dataset, batch_size = 20)"
   ]
  },
  {
   "cell_type": "code",
   "execution_count": 12,
   "id": "b64c38ab-cc5b-4402-bec9-994b7d1588ea",
   "metadata": {},
   "outputs": [
    {
     "name": "stdout",
     "output_type": "stream",
     "text": [
      "('/Users/nik/Work/lyrics_overlay/data/pre_processor_output/101fd9e4-2ea2-4599-99b8-d4027ee53df4/1000.0.npy', '/Users/nik/Work/lyrics_overlay/data/pre_processor_output/101fd9e4-2ea2-4599-99b8-d4027ee53df4/10100.000000000002.npy', '/Users/nik/Work/lyrics_overlay/data/pre_processor_output/101fd9e4-2ea2-4599-99b8-d4027ee53df4/10266.666666666668.npy', '/Users/nik/Work/lyrics_overlay/data/pre_processor_output/101fd9e4-2ea2-4599-99b8-d4027ee53df4/10433.333333333334.npy', '/Users/nik/Work/lyrics_overlay/data/pre_processor_output/101fd9e4-2ea2-4599-99b8-d4027ee53df4/10600.000000000002.npy', '/Users/nik/Work/lyrics_overlay/data/pre_processor_output/101fd9e4-2ea2-4599-99b8-d4027ee53df4/10766.666666666668.npy', '/Users/nik/Work/lyrics_overlay/data/pre_processor_output/101fd9e4-2ea2-4599-99b8-d4027ee53df4/10933.333333333334.npy', '/Users/nik/Work/lyrics_overlay/data/pre_processor_output/101fd9e4-2ea2-4599-99b8-d4027ee53df4/11100.000000000002.npy', '/Users/nik/Work/lyrics_overlay/data/pre_processor_output/101fd9e4-2ea2-4599-99b8-d4027ee53df4/11266.666666666668.npy', '/Users/nik/Work/lyrics_overlay/data/pre_processor_output/101fd9e4-2ea2-4599-99b8-d4027ee53df4/11433.333333333334.npy', '/Users/nik/Work/lyrics_overlay/data/pre_processor_output/101fd9e4-2ea2-4599-99b8-d4027ee53df4/1166.6666666666667.npy', '/Users/nik/Work/lyrics_overlay/data/pre_processor_output/101fd9e4-2ea2-4599-99b8-d4027ee53df4/11700.000000000002.npy', '/Users/nik/Work/lyrics_overlay/data/pre_processor_output/101fd9e4-2ea2-4599-99b8-d4027ee53df4/11866.666666666668.npy', '/Users/nik/Work/lyrics_overlay/data/pre_processor_output/101fd9e4-2ea2-4599-99b8-d4027ee53df4/12033.333333333336.npy', '/Users/nik/Work/lyrics_overlay/data/pre_processor_output/101fd9e4-2ea2-4599-99b8-d4027ee53df4/12200.000000000002.npy', '/Users/nik/Work/lyrics_overlay/data/pre_processor_output/101fd9e4-2ea2-4599-99b8-d4027ee53df4/12366.666666666668.npy', '/Users/nik/Work/lyrics_overlay/data/pre_processor_output/101fd9e4-2ea2-4599-99b8-d4027ee53df4/12533.333333333336.npy', '/Users/nik/Work/lyrics_overlay/data/pre_processor_output/101fd9e4-2ea2-4599-99b8-d4027ee53df4/12700.000000000002.npy', '/Users/nik/Work/lyrics_overlay/data/pre_processor_output/101fd9e4-2ea2-4599-99b8-d4027ee53df4/12866.666666666668.npy', '/Users/nik/Work/lyrics_overlay/data/pre_processor_output/101fd9e4-2ea2-4599-99b8-d4027ee53df4/13033.333333333336.npy')\n",
      "torch.Size([20, 3, 224, 224])\n",
      "('/Users/nik/Work/lyrics_overlay/data/pre_processor_output/101fd9e4-2ea2-4599-99b8-d4027ee53df4/13200.000000000002.npy', '/Users/nik/Work/lyrics_overlay/data/pre_processor_output/101fd9e4-2ea2-4599-99b8-d4027ee53df4/1333.3333333333335.npy', '/Users/nik/Work/lyrics_overlay/data/pre_processor_output/101fd9e4-2ea2-4599-99b8-d4027ee53df4/13366.666666666668.npy', '/Users/nik/Work/lyrics_overlay/data/pre_processor_output/101fd9e4-2ea2-4599-99b8-d4027ee53df4/13533.333333333336.npy', '/Users/nik/Work/lyrics_overlay/data/pre_processor_output/101fd9e4-2ea2-4599-99b8-d4027ee53df4/13700.000000000002.npy', '/Users/nik/Work/lyrics_overlay/data/pre_processor_output/101fd9e4-2ea2-4599-99b8-d4027ee53df4/13866.666666666668.npy', '/Users/nik/Work/lyrics_overlay/data/pre_processor_output/101fd9e4-2ea2-4599-99b8-d4027ee53df4/14033.333333333336.npy', '/Users/nik/Work/lyrics_overlay/data/pre_processor_output/101fd9e4-2ea2-4599-99b8-d4027ee53df4/14200.000000000002.npy', '/Users/nik/Work/lyrics_overlay/data/pre_processor_output/101fd9e4-2ea2-4599-99b8-d4027ee53df4/14366.666666666668.npy', '/Users/nik/Work/lyrics_overlay/data/pre_processor_output/101fd9e4-2ea2-4599-99b8-d4027ee53df4/14533.333333333336.npy', '/Users/nik/Work/lyrics_overlay/data/pre_processor_output/101fd9e4-2ea2-4599-99b8-d4027ee53df4/14700.000000000002.npy', '/Users/nik/Work/lyrics_overlay/data/pre_processor_output/101fd9e4-2ea2-4599-99b8-d4027ee53df4/14866.666666666668.npy', '/Users/nik/Work/lyrics_overlay/data/pre_processor_output/101fd9e4-2ea2-4599-99b8-d4027ee53df4/1500.0.npy', '/Users/nik/Work/lyrics_overlay/data/pre_processor_output/101fd9e4-2ea2-4599-99b8-d4027ee53df4/15700.000000000002.npy', '/Users/nik/Work/lyrics_overlay/data/pre_processor_output/101fd9e4-2ea2-4599-99b8-d4027ee53df4/15866.666666666668.npy', '/Users/nik/Work/lyrics_overlay/data/pre_processor_output/101fd9e4-2ea2-4599-99b8-d4027ee53df4/16033.333333333336.npy', '/Users/nik/Work/lyrics_overlay/data/pre_processor_output/101fd9e4-2ea2-4599-99b8-d4027ee53df4/16200.0.npy', '/Users/nik/Work/lyrics_overlay/data/pre_processor_output/101fd9e4-2ea2-4599-99b8-d4027ee53df4/16366.666666666668.npy', '/Users/nik/Work/lyrics_overlay/data/pre_processor_output/101fd9e4-2ea2-4599-99b8-d4027ee53df4/16533.333333333336.npy', '/Users/nik/Work/lyrics_overlay/data/pre_processor_output/101fd9e4-2ea2-4599-99b8-d4027ee53df4/1666.6666666666667.npy')\n",
      "torch.Size([20, 3, 224, 224])\n",
      "('/Users/nik/Work/lyrics_overlay/data/pre_processor_output/101fd9e4-2ea2-4599-99b8-d4027ee53df4/16700.000000000004.npy', '/Users/nik/Work/lyrics_overlay/data/pre_processor_output/101fd9e4-2ea2-4599-99b8-d4027ee53df4/16866.666666666668.npy', '/Users/nik/Work/lyrics_overlay/data/pre_processor_output/101fd9e4-2ea2-4599-99b8-d4027ee53df4/17033.333333333336.npy', '/Users/nik/Work/lyrics_overlay/data/pre_processor_output/101fd9e4-2ea2-4599-99b8-d4027ee53df4/17200.000000000004.npy', '/Users/nik/Work/lyrics_overlay/data/pre_processor_output/101fd9e4-2ea2-4599-99b8-d4027ee53df4/17366.666666666668.npy', '/Users/nik/Work/lyrics_overlay/data/pre_processor_output/101fd9e4-2ea2-4599-99b8-d4027ee53df4/17533.333333333336.npy', '/Users/nik/Work/lyrics_overlay/data/pre_processor_output/101fd9e4-2ea2-4599-99b8-d4027ee53df4/17700.000000000004.npy', '/Users/nik/Work/lyrics_overlay/data/pre_processor_output/101fd9e4-2ea2-4599-99b8-d4027ee53df4/17866.666666666668.npy', '/Users/nik/Work/lyrics_overlay/data/pre_processor_output/101fd9e4-2ea2-4599-99b8-d4027ee53df4/18033.333333333336.npy', '/Users/nik/Work/lyrics_overlay/data/pre_processor_output/101fd9e4-2ea2-4599-99b8-d4027ee53df4/18200.000000000004.npy', '/Users/nik/Work/lyrics_overlay/data/pre_processor_output/101fd9e4-2ea2-4599-99b8-d4027ee53df4/1833.3333333333335.npy', '/Users/nik/Work/lyrics_overlay/data/pre_processor_output/101fd9e4-2ea2-4599-99b8-d4027ee53df4/18366.666666666668.npy', '/Users/nik/Work/lyrics_overlay/data/pre_processor_output/101fd9e4-2ea2-4599-99b8-d4027ee53df4/18533.333333333336.npy', '/Users/nik/Work/lyrics_overlay/data/pre_processor_output/101fd9e4-2ea2-4599-99b8-d4027ee53df4/18700.000000000004.npy', '/Users/nik/Work/lyrics_overlay/data/pre_processor_output/101fd9e4-2ea2-4599-99b8-d4027ee53df4/18866.666666666668.npy', '/Users/nik/Work/lyrics_overlay/data/pre_processor_output/101fd9e4-2ea2-4599-99b8-d4027ee53df4/19100.0.npy', '/Users/nik/Work/lyrics_overlay/data/pre_processor_output/101fd9e4-2ea2-4599-99b8-d4027ee53df4/19266.666666666668.npy', '/Users/nik/Work/lyrics_overlay/data/pre_processor_output/101fd9e4-2ea2-4599-99b8-d4027ee53df4/19433.333333333332.npy', '/Users/nik/Work/lyrics_overlay/data/pre_processor_output/101fd9e4-2ea2-4599-99b8-d4027ee53df4/19600.0.npy', '/Users/nik/Work/lyrics_overlay/data/pre_processor_output/101fd9e4-2ea2-4599-99b8-d4027ee53df4/19766.666666666668.npy')\n",
      "torch.Size([20, 3, 224, 224])\n",
      "('/Users/nik/Work/lyrics_overlay/data/pre_processor_output/101fd9e4-2ea2-4599-99b8-d4027ee53df4/19933.333333333332.npy', '/Users/nik/Work/lyrics_overlay/data/pre_processor_output/101fd9e4-2ea2-4599-99b8-d4027ee53df4/2000.0.npy', '/Users/nik/Work/lyrics_overlay/data/pre_processor_output/101fd9e4-2ea2-4599-99b8-d4027ee53df4/20100.0.npy', '/Users/nik/Work/lyrics_overlay/data/pre_processor_output/101fd9e4-2ea2-4599-99b8-d4027ee53df4/20266.666666666668.npy', '/Users/nik/Work/lyrics_overlay/data/pre_processor_output/101fd9e4-2ea2-4599-99b8-d4027ee53df4/20433.333333333332.npy', '/Users/nik/Work/lyrics_overlay/data/pre_processor_output/101fd9e4-2ea2-4599-99b8-d4027ee53df4/20600.0.npy', '/Users/nik/Work/lyrics_overlay/data/pre_processor_output/101fd9e4-2ea2-4599-99b8-d4027ee53df4/20766.666666666668.npy', '/Users/nik/Work/lyrics_overlay/data/pre_processor_output/101fd9e4-2ea2-4599-99b8-d4027ee53df4/20933.333333333332.npy', '/Users/nik/Work/lyrics_overlay/data/pre_processor_output/101fd9e4-2ea2-4599-99b8-d4027ee53df4/21100.0.npy', '/Users/nik/Work/lyrics_overlay/data/pre_processor_output/101fd9e4-2ea2-4599-99b8-d4027ee53df4/21266.666666666668.npy', '/Users/nik/Work/lyrics_overlay/data/pre_processor_output/101fd9e4-2ea2-4599-99b8-d4027ee53df4/21433.333333333332.npy', '/Users/nik/Work/lyrics_overlay/data/pre_processor_output/101fd9e4-2ea2-4599-99b8-d4027ee53df4/21600.0.npy', '/Users/nik/Work/lyrics_overlay/data/pre_processor_output/101fd9e4-2ea2-4599-99b8-d4027ee53df4/2166.666666666667.npy', '/Users/nik/Work/lyrics_overlay/data/pre_processor_output/101fd9e4-2ea2-4599-99b8-d4027ee53df4/21766.666666666668.npy', '/Users/nik/Work/lyrics_overlay/data/pre_processor_output/101fd9e4-2ea2-4599-99b8-d4027ee53df4/21933.333333333332.npy', '/Users/nik/Work/lyrics_overlay/data/pre_processor_output/101fd9e4-2ea2-4599-99b8-d4027ee53df4/22200.000000000004.npy', '/Users/nik/Work/lyrics_overlay/data/pre_processor_output/101fd9e4-2ea2-4599-99b8-d4027ee53df4/22366.666666666668.npy', '/Users/nik/Work/lyrics_overlay/data/pre_processor_output/101fd9e4-2ea2-4599-99b8-d4027ee53df4/22533.333333333336.npy', '/Users/nik/Work/lyrics_overlay/data/pre_processor_output/101fd9e4-2ea2-4599-99b8-d4027ee53df4/22700.000000000004.npy', '/Users/nik/Work/lyrics_overlay/data/pre_processor_output/101fd9e4-2ea2-4599-99b8-d4027ee53df4/22866.666666666668.npy')\n",
      "torch.Size([20, 3, 224, 224])\n",
      "('/Users/nik/Work/lyrics_overlay/data/pre_processor_output/101fd9e4-2ea2-4599-99b8-d4027ee53df4/23033.333333333336.npy', '/Users/nik/Work/lyrics_overlay/data/pre_processor_output/101fd9e4-2ea2-4599-99b8-d4027ee53df4/23200.000000000004.npy', '/Users/nik/Work/lyrics_overlay/data/pre_processor_output/101fd9e4-2ea2-4599-99b8-d4027ee53df4/2333.3333333333335.npy', '/Users/nik/Work/lyrics_overlay/data/pre_processor_output/101fd9e4-2ea2-4599-99b8-d4027ee53df4/23366.666666666668.npy', '/Users/nik/Work/lyrics_overlay/data/pre_processor_output/101fd9e4-2ea2-4599-99b8-d4027ee53df4/23533.333333333336.npy', '/Users/nik/Work/lyrics_overlay/data/pre_processor_output/101fd9e4-2ea2-4599-99b8-d4027ee53df4/23700.000000000004.npy', '/Users/nik/Work/lyrics_overlay/data/pre_processor_output/101fd9e4-2ea2-4599-99b8-d4027ee53df4/23866.666666666668.npy', '/Users/nik/Work/lyrics_overlay/data/pre_processor_output/101fd9e4-2ea2-4599-99b8-d4027ee53df4/24033.333333333336.npy', '/Users/nik/Work/lyrics_overlay/data/pre_processor_output/101fd9e4-2ea2-4599-99b8-d4027ee53df4/24200.000000000004.npy', '/Users/nik/Work/lyrics_overlay/data/pre_processor_output/101fd9e4-2ea2-4599-99b8-d4027ee53df4/24366.666666666668.npy', '/Users/nik/Work/lyrics_overlay/data/pre_processor_output/101fd9e4-2ea2-4599-99b8-d4027ee53df4/24533.333333333336.npy', '/Users/nik/Work/lyrics_overlay/data/pre_processor_output/101fd9e4-2ea2-4599-99b8-d4027ee53df4/24700.000000000004.npy', '/Users/nik/Work/lyrics_overlay/data/pre_processor_output/101fd9e4-2ea2-4599-99b8-d4027ee53df4/24866.666666666668.npy', '/Users/nik/Work/lyrics_overlay/data/pre_processor_output/101fd9e4-2ea2-4599-99b8-d4027ee53df4/2500.0.npy', '/Users/nik/Work/lyrics_overlay/data/pre_processor_output/101fd9e4-2ea2-4599-99b8-d4027ee53df4/25033.333333333336.npy', '/Users/nik/Work/lyrics_overlay/data/pre_processor_output/101fd9e4-2ea2-4599-99b8-d4027ee53df4/25200.000000000004.npy', '/Users/nik/Work/lyrics_overlay/data/pre_processor_output/101fd9e4-2ea2-4599-99b8-d4027ee53df4/25366.666666666668.npy', '/Users/nik/Work/lyrics_overlay/data/pre_processor_output/101fd9e4-2ea2-4599-99b8-d4027ee53df4/25533.333333333336.npy', '/Users/nik/Work/lyrics_overlay/data/pre_processor_output/101fd9e4-2ea2-4599-99b8-d4027ee53df4/25700.000000000004.npy', '/Users/nik/Work/lyrics_overlay/data/pre_processor_output/101fd9e4-2ea2-4599-99b8-d4027ee53df4/25866.666666666668.npy')\n",
      "torch.Size([20, 3, 224, 224])\n",
      "('/Users/nik/Work/lyrics_overlay/data/pre_processor_output/101fd9e4-2ea2-4599-99b8-d4027ee53df4/26300.0.npy', '/Users/nik/Work/lyrics_overlay/data/pre_processor_output/101fd9e4-2ea2-4599-99b8-d4027ee53df4/26466.666666666668.npy', '/Users/nik/Work/lyrics_overlay/data/pre_processor_output/101fd9e4-2ea2-4599-99b8-d4027ee53df4/26633.333333333336.npy', '/Users/nik/Work/lyrics_overlay/data/pre_processor_output/101fd9e4-2ea2-4599-99b8-d4027ee53df4/2666.666666666667.npy', '/Users/nik/Work/lyrics_overlay/data/pre_processor_output/101fd9e4-2ea2-4599-99b8-d4027ee53df4/26800.0.npy', '/Users/nik/Work/lyrics_overlay/data/pre_processor_output/101fd9e4-2ea2-4599-99b8-d4027ee53df4/26966.666666666668.npy', '/Users/nik/Work/lyrics_overlay/data/pre_processor_output/101fd9e4-2ea2-4599-99b8-d4027ee53df4/27133.333333333336.npy', '/Users/nik/Work/lyrics_overlay/data/pre_processor_output/101fd9e4-2ea2-4599-99b8-d4027ee53df4/27300.0.npy', '/Users/nik/Work/lyrics_overlay/data/pre_processor_output/101fd9e4-2ea2-4599-99b8-d4027ee53df4/27466.666666666668.npy', '/Users/nik/Work/lyrics_overlay/data/pre_processor_output/101fd9e4-2ea2-4599-99b8-d4027ee53df4/27633.333333333336.npy', '/Users/nik/Work/lyrics_overlay/data/pre_processor_output/101fd9e4-2ea2-4599-99b8-d4027ee53df4/27800.0.npy', '/Users/nik/Work/lyrics_overlay/data/pre_processor_output/101fd9e4-2ea2-4599-99b8-d4027ee53df4/27966.666666666668.npy', '/Users/nik/Work/lyrics_overlay/data/pre_processor_output/101fd9e4-2ea2-4599-99b8-d4027ee53df4/28133.333333333336.npy', '/Users/nik/Work/lyrics_overlay/data/pre_processor_output/101fd9e4-2ea2-4599-99b8-d4027ee53df4/28300.0.npy', '/Users/nik/Work/lyrics_overlay/data/pre_processor_output/101fd9e4-2ea2-4599-99b8-d4027ee53df4/2833.3333333333335.npy', '/Users/nik/Work/lyrics_overlay/data/pre_processor_output/101fd9e4-2ea2-4599-99b8-d4027ee53df4/28466.666666666668.npy', '/Users/nik/Work/lyrics_overlay/data/pre_processor_output/101fd9e4-2ea2-4599-99b8-d4027ee53df4/29000.000000000004.npy', '/Users/nik/Work/lyrics_overlay/data/pre_processor_output/101fd9e4-2ea2-4599-99b8-d4027ee53df4/29166.666666666668.npy', '/Users/nik/Work/lyrics_overlay/data/pre_processor_output/101fd9e4-2ea2-4599-99b8-d4027ee53df4/29333.333333333336.npy', '/Users/nik/Work/lyrics_overlay/data/pre_processor_output/101fd9e4-2ea2-4599-99b8-d4027ee53df4/29500.000000000004.npy')\n",
      "torch.Size([20, 3, 224, 224])\n",
      "('/Users/nik/Work/lyrics_overlay/data/pre_processor_output/101fd9e4-2ea2-4599-99b8-d4027ee53df4/29666.666666666668.npy', '/Users/nik/Work/lyrics_overlay/data/pre_processor_output/101fd9e4-2ea2-4599-99b8-d4027ee53df4/29833.333333333336.npy', '/Users/nik/Work/lyrics_overlay/data/pre_processor_output/101fd9e4-2ea2-4599-99b8-d4027ee53df4/3000.0.npy', '/Users/nik/Work/lyrics_overlay/data/pre_processor_output/101fd9e4-2ea2-4599-99b8-d4027ee53df4/30000.000000000004.npy', '/Users/nik/Work/lyrics_overlay/data/pre_processor_output/101fd9e4-2ea2-4599-99b8-d4027ee53df4/30166.666666666668.npy', '/Users/nik/Work/lyrics_overlay/data/pre_processor_output/101fd9e4-2ea2-4599-99b8-d4027ee53df4/30333.333333333336.npy', '/Users/nik/Work/lyrics_overlay/data/pre_processor_output/101fd9e4-2ea2-4599-99b8-d4027ee53df4/30500.000000000004.npy', '/Users/nik/Work/lyrics_overlay/data/pre_processor_output/101fd9e4-2ea2-4599-99b8-d4027ee53df4/30666.666666666668.npy', '/Users/nik/Work/lyrics_overlay/data/pre_processor_output/101fd9e4-2ea2-4599-99b8-d4027ee53df4/30833.333333333336.npy', '/Users/nik/Work/lyrics_overlay/data/pre_processor_output/101fd9e4-2ea2-4599-99b8-d4027ee53df4/31000.000000000004.npy', '/Users/nik/Work/lyrics_overlay/data/pre_processor_output/101fd9e4-2ea2-4599-99b8-d4027ee53df4/31166.666666666668.npy', '/Users/nik/Work/lyrics_overlay/data/pre_processor_output/101fd9e4-2ea2-4599-99b8-d4027ee53df4/31333.333333333336.npy', '/Users/nik/Work/lyrics_overlay/data/pre_processor_output/101fd9e4-2ea2-4599-99b8-d4027ee53df4/31500.000000000004.npy', '/Users/nik/Work/lyrics_overlay/data/pre_processor_output/101fd9e4-2ea2-4599-99b8-d4027ee53df4/3166.666666666667.npy', '/Users/nik/Work/lyrics_overlay/data/pre_processor_output/101fd9e4-2ea2-4599-99b8-d4027ee53df4/31666.666666666668.npy', '/Users/nik/Work/lyrics_overlay/data/pre_processor_output/101fd9e4-2ea2-4599-99b8-d4027ee53df4/31833.333333333336.npy', '/Users/nik/Work/lyrics_overlay/data/pre_processor_output/101fd9e4-2ea2-4599-99b8-d4027ee53df4/32000.0.npy', '/Users/nik/Work/lyrics_overlay/data/pre_processor_output/101fd9e4-2ea2-4599-99b8-d4027ee53df4/32166.66666666667.npy', '/Users/nik/Work/lyrics_overlay/data/pre_processor_output/101fd9e4-2ea2-4599-99b8-d4027ee53df4/32333.333333333336.npy', '/Users/nik/Work/lyrics_overlay/data/pre_processor_output/101fd9e4-2ea2-4599-99b8-d4027ee53df4/32500.0.npy')\n",
      "torch.Size([20, 3, 224, 224])\n",
      "('/Users/nik/Work/lyrics_overlay/data/pre_processor_output/101fd9e4-2ea2-4599-99b8-d4027ee53df4/32666.66666666667.npy', '/Users/nik/Work/lyrics_overlay/data/pre_processor_output/101fd9e4-2ea2-4599-99b8-d4027ee53df4/32833.333333333336.npy', '/Users/nik/Work/lyrics_overlay/data/pre_processor_output/101fd9e4-2ea2-4599-99b8-d4027ee53df4/33000.0.npy', '/Users/nik/Work/lyrics_overlay/data/pre_processor_output/101fd9e4-2ea2-4599-99b8-d4027ee53df4/33166.66666666667.npy', '/Users/nik/Work/lyrics_overlay/data/pre_processor_output/101fd9e4-2ea2-4599-99b8-d4027ee53df4/3333.3333333333335.npy', '/Users/nik/Work/lyrics_overlay/data/pre_processor_output/101fd9e4-2ea2-4599-99b8-d4027ee53df4/33333.333333333336.npy', '/Users/nik/Work/lyrics_overlay/data/pre_processor_output/101fd9e4-2ea2-4599-99b8-d4027ee53df4/33500.0.npy', '/Users/nik/Work/lyrics_overlay/data/pre_processor_output/101fd9e4-2ea2-4599-99b8-d4027ee53df4/33666.66666666667.npy', '/Users/nik/Work/lyrics_overlay/data/pre_processor_output/101fd9e4-2ea2-4599-99b8-d4027ee53df4/33833.333333333336.npy', '/Users/nik/Work/lyrics_overlay/data/pre_processor_output/101fd9e4-2ea2-4599-99b8-d4027ee53df4/34000.0.npy', '/Users/nik/Work/lyrics_overlay/data/pre_processor_output/101fd9e4-2ea2-4599-99b8-d4027ee53df4/3500.0000000000005.npy', '/Users/nik/Work/lyrics_overlay/data/pre_processor_output/101fd9e4-2ea2-4599-99b8-d4027ee53df4/3666.666666666667.npy', '/Users/nik/Work/lyrics_overlay/data/pre_processor_output/101fd9e4-2ea2-4599-99b8-d4027ee53df4/3833.3333333333335.npy', '/Users/nik/Work/lyrics_overlay/data/pre_processor_output/101fd9e4-2ea2-4599-99b8-d4027ee53df4/4000.0.npy', '/Users/nik/Work/lyrics_overlay/data/pre_processor_output/101fd9e4-2ea2-4599-99b8-d4027ee53df4/4166.666666666667.npy', '/Users/nik/Work/lyrics_overlay/data/pre_processor_output/101fd9e4-2ea2-4599-99b8-d4027ee53df4/4333.333333333334.npy', '/Users/nik/Work/lyrics_overlay/data/pre_processor_output/101fd9e4-2ea2-4599-99b8-d4027ee53df4/4500.0.npy', '/Users/nik/Work/lyrics_overlay/data/pre_processor_output/101fd9e4-2ea2-4599-99b8-d4027ee53df4/4666.666666666667.npy', '/Users/nik/Work/lyrics_overlay/data/pre_processor_output/101fd9e4-2ea2-4599-99b8-d4027ee53df4/4833.333333333334.npy', '/Users/nik/Work/lyrics_overlay/data/pre_processor_output/101fd9e4-2ea2-4599-99b8-d4027ee53df4/500.0.npy')\n",
      "torch.Size([20, 3, 224, 224])\n",
      "('/Users/nik/Work/lyrics_overlay/data/pre_processor_output/101fd9e4-2ea2-4599-99b8-d4027ee53df4/5000.0.npy', '/Users/nik/Work/lyrics_overlay/data/pre_processor_output/101fd9e4-2ea2-4599-99b8-d4027ee53df4/5166.666666666667.npy', '/Users/nik/Work/lyrics_overlay/data/pre_processor_output/101fd9e4-2ea2-4599-99b8-d4027ee53df4/5333.333333333334.npy', '/Users/nik/Work/lyrics_overlay/data/pre_processor_output/101fd9e4-2ea2-4599-99b8-d4027ee53df4/5500.0.npy', '/Users/nik/Work/lyrics_overlay/data/pre_processor_output/101fd9e4-2ea2-4599-99b8-d4027ee53df4/5666.666666666667.npy', '/Users/nik/Work/lyrics_overlay/data/pre_processor_output/101fd9e4-2ea2-4599-99b8-d4027ee53df4/5833.333333333334.npy', '/Users/nik/Work/lyrics_overlay/data/pre_processor_output/101fd9e4-2ea2-4599-99b8-d4027ee53df4/6000.0.npy', '/Users/nik/Work/lyrics_overlay/data/pre_processor_output/101fd9e4-2ea2-4599-99b8-d4027ee53df4/6166.666666666667.npy', '/Users/nik/Work/lyrics_overlay/data/pre_processor_output/101fd9e4-2ea2-4599-99b8-d4027ee53df4/6333.333333333334.npy', '/Users/nik/Work/lyrics_overlay/data/pre_processor_output/101fd9e4-2ea2-4599-99b8-d4027ee53df4/6500.0.npy', '/Users/nik/Work/lyrics_overlay/data/pre_processor_output/101fd9e4-2ea2-4599-99b8-d4027ee53df4/666.6666666666667.npy', '/Users/nik/Work/lyrics_overlay/data/pre_processor_output/101fd9e4-2ea2-4599-99b8-d4027ee53df4/6666.666666666667.npy', '/Users/nik/Work/lyrics_overlay/data/pre_processor_output/101fd9e4-2ea2-4599-99b8-d4027ee53df4/6833.333333333334.npy', '/Users/nik/Work/lyrics_overlay/data/pre_processor_output/101fd9e4-2ea2-4599-99b8-d4027ee53df4/7000.000000000001.npy', '/Users/nik/Work/lyrics_overlay/data/pre_processor_output/101fd9e4-2ea2-4599-99b8-d4027ee53df4/7166.666666666667.npy', '/Users/nik/Work/lyrics_overlay/data/pre_processor_output/101fd9e4-2ea2-4599-99b8-d4027ee53df4/7600.000000000001.npy', '/Users/nik/Work/lyrics_overlay/data/pre_processor_output/101fd9e4-2ea2-4599-99b8-d4027ee53df4/7766.666666666668.npy', '/Users/nik/Work/lyrics_overlay/data/pre_processor_output/101fd9e4-2ea2-4599-99b8-d4027ee53df4/7933.333333333334.npy', '/Users/nik/Work/lyrics_overlay/data/pre_processor_output/101fd9e4-2ea2-4599-99b8-d4027ee53df4/8100.0.npy', '/Users/nik/Work/lyrics_overlay/data/pre_processor_output/101fd9e4-2ea2-4599-99b8-d4027ee53df4/8266.666666666668.npy')\n",
      "torch.Size([20, 3, 224, 224])\n",
      "('/Users/nik/Work/lyrics_overlay/data/pre_processor_output/101fd9e4-2ea2-4599-99b8-d4027ee53df4/833.3333333333334.npy', '/Users/nik/Work/lyrics_overlay/data/pre_processor_output/101fd9e4-2ea2-4599-99b8-d4027ee53df4/8433.333333333334.npy', '/Users/nik/Work/lyrics_overlay/data/pre_processor_output/101fd9e4-2ea2-4599-99b8-d4027ee53df4/8600.000000000002.npy', '/Users/nik/Work/lyrics_overlay/data/pre_processor_output/101fd9e4-2ea2-4599-99b8-d4027ee53df4/8766.666666666668.npy', '/Users/nik/Work/lyrics_overlay/data/pre_processor_output/101fd9e4-2ea2-4599-99b8-d4027ee53df4/8933.333333333334.npy', '/Users/nik/Work/lyrics_overlay/data/pre_processor_output/101fd9e4-2ea2-4599-99b8-d4027ee53df4/9100.000000000002.npy', '/Users/nik/Work/lyrics_overlay/data/pre_processor_output/101fd9e4-2ea2-4599-99b8-d4027ee53df4/9266.666666666668.npy', '/Users/nik/Work/lyrics_overlay/data/pre_processor_output/101fd9e4-2ea2-4599-99b8-d4027ee53df4/9433.333333333334.npy', '/Users/nik/Work/lyrics_overlay/data/pre_processor_output/101fd9e4-2ea2-4599-99b8-d4027ee53df4/9600.000000000002.npy', '/Users/nik/Work/lyrics_overlay/data/pre_processor_output/101fd9e4-2ea2-4599-99b8-d4027ee53df4/9766.666666666668.npy', '/Users/nik/Work/lyrics_overlay/data/pre_processor_output/101fd9e4-2ea2-4599-99b8-d4027ee53df4/9933.333333333334.npy')\n",
      "torch.Size([11, 3, 224, 224])\n"
     ]
    }
   ],
   "source": [
    "outputs = list()\n",
    "for inputs, labels, paths in dataloader:\n",
    "    inputs = inputs.to(\"cpu\")\n",
    "    print(paths)\n",
    "    #output = model(inputs)\n",
    "    #output = output.to(device)\n",
    "    #index = output.data.numpy().argmax()\n",
    "    print(inputs.shape)"
   ]
  },
  {
   "cell_type": "code",
   "execution_count": null,
   "id": "b06953fe-96e9-4d65-9db1-6f3339c01f6a",
   "metadata": {},
   "outputs": [],
   "source": []
  }
 ],
 "metadata": {
  "kernelspec": {
   "display_name": "Python 3 (ipykernel)",
   "language": "python",
   "name": "python3"
  },
  "language_info": {
   "codemirror_mode": {
    "name": "ipython",
    "version": 3
   },
   "file_extension": ".py",
   "mimetype": "text/x-python",
   "name": "python",
   "nbconvert_exporter": "python",
   "pygments_lexer": "ipython3",
   "version": "3.8.11"
  }
 },
 "nbformat": 4,
 "nbformat_minor": 5
}
