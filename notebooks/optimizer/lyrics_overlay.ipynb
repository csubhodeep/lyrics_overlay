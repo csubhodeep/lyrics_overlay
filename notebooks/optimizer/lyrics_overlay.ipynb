{
  "nbformat": 4,
  "nbformat_minor": 0,
  "metadata": {
    "colab": {
      "name": "lyrics_overlay.ipynb",
      "provenance": [],
      "collapsed_sections": [],
      "toc_visible": true,
      "include_colab_link": true
    },
    "kernelspec": {
      "display_name": "Python 3",
      "name": "python3"
    }
  },
  "cells": [
    {
      "cell_type": "markdown",
      "metadata": {
        "id": "view-in-github",
        "colab_type": "text"
      },
      "source": [
        "<a href=\"https://colab.research.google.com/github/csubhodeep/lyrics_overlay/blob/develop/exp/lyrics_overlay.ipynb\" target=\"_parent\"><img src=\"https://colab.research.google.com/assets/colab-badge.svg\" alt=\"Open In Colab\"/></a>"
      ]
    },
    {
      "cell_type": "markdown",
      "metadata": {
        "id": "XyBSNDA_raVA"
      },
      "source": [
        "# Inference"
      ]
    },
    {
      "cell_type": "code",
      "metadata": {
        "id": "xBC6c4X6rV6N"
      },
      "source": [
        ""
      ],
      "execution_count": null,
      "outputs": []
    },
    {
      "cell_type": "code",
      "metadata": {
        "id": "6xXeHMmjrV8o"
      },
      "source": [
        ""
      ],
      "execution_count": null,
      "outputs": []
    },
    {
      "cell_type": "code",
      "metadata": {
        "colab": {
          "base_uri": "https://localhost:8080/"
        },
        "id": "zE0LbKArrr95",
        "outputId": "2bced54a-1cba-451a-eef9-b4cfab0b13e9"
      },
      "source": [
        "from google.colab import drive\n",
        "drive.mount('/content/drive')"
      ],
      "execution_count": null,
      "outputs": [
        {
          "output_type": "stream",
          "text": [
            "Mounted at /content/drive\n"
          ],
          "name": "stdout"
        }
      ]
    },
    {
      "cell_type": "code",
      "metadata": {
        "id": "6Wce5Skqp2yC"
      },
      "source": [
        "import matplotlib.pyplot as plt\n",
        "import numpy as np\n",
        "from PIL import Image"
      ],
      "execution_count": null,
      "outputs": []
    },
    {
      "cell_type": "code",
      "metadata": {
        "id": "-Pxeqlx5rpBt"
      },
      "source": [
        "img = Image.open('./drive/MyDrive/ColabNotebooks/lyrics_overlay_project/data/test2.png')"
      ],
      "execution_count": null,
      "outputs": []
    },
    {
      "cell_type": "code",
      "metadata": {
        "id": "8CxUHBhyvWn6"
      },
      "source": [
        "grey_image = img.convert('LA')"
      ],
      "execution_count": null,
      "outputs": []
    },
    {
      "cell_type": "code",
      "metadata": {
        "colab": {
          "base_uri": "https://localhost:8080/",
          "height": 117
        },
        "id": "RgyO-LMgqT1m",
        "outputId": "a7450de0-b538-4c8d-b110-fda66b91eb9d"
      },
      "source": [
        "grey_image"
      ],
      "execution_count": null,
      "outputs": [
        {
          "output_type": "execute_result",
          "data": {
            "image/png": "[encoded data removed]",
            "text/plain": [
              "<PIL.Image.Image image mode=LA size=100x100 at 0x7F1174254D68>"
            ]
          },
          "metadata": {
            "tags": []
          },
          "execution_count": 47
        }
      ]
    },
    {
      "cell_type": "code",
      "metadata": {
        "id": "5wrZH3WGrlnj"
      },
      "source": [
        "from sklearn.preprocessing import MinMaxScaler"
      ],
      "execution_count": null,
      "outputs": []
    },
    {
      "cell_type": "code",
      "metadata": {
        "id": "L5CyYkBis71J"
      },
      "source": [
        "grey_image_array = np.array(grey_image)[:,:,0]"
      ],
      "execution_count": null,
      "outputs": []
    },
    {
      "cell_type": "code",
      "metadata": {
        "id": "GmFdRjc8rsX8"
      },
      "source": [
        "grey_image_array_normalized = MinMaxScaler().fit_transform(grey_image_array)"
      ],
      "execution_count": null,
      "outputs": []
    },
    {
      "cell_type": "markdown",
      "metadata": {
        "id": "BEZIgzV8pWu4"
      },
      "source": [
        "# Get inferred (segmented) image\n",
        "\n",
        "Assumptions:\n",
        "1. The segmentation initially is in the form of rectangular boxes.\n",
        "2. The input frame is in grey-scale (B&W) and the region inside the bounding box will be filled with black color. (We keep this assumption till we implement the pre-processing function)\n"
      ]
    },
    {
      "cell_type": "code",
      "metadata": {
        "id": "BPspIdl3WpCw",
        "outputId": "0a2ccdc4-1e99-4caa-bc2d-d6ffbef38b6a",
        "colab": {
          "base_uri": "https://localhost:8080/"
        }
      },
      "source": [
        "!git clone --branch develop https://github.com/csubhodeep/lyrics_overlay.git"
      ],
      "execution_count": 3,
      "outputs": [
        {
          "output_type": "stream",
          "text": [
            "Cloning into 'lyrics_overlay'...\n",
            "fatal: could not read Username for 'https://github.com': No such device or address\n"
          ],
          "name": "stdout"
        }
      ]
    },
    {
      "cell_type": "code",
      "metadata": {
        "id": "5LX18sDCFWil",
        "outputId": "ba7d5c92-51f9-41d9-c15f-627520ce1358",
        "colab": {
          "base_uri": "https://localhost:8080/",
          "height": 185
        }
      },
      "source": [
        "import os\n",
        "os.chdir('./lyrics_overlay')"
      ],
      "execution_count": 2,
      "outputs": [
        {
          "output_type": "error",
          "ename": "FileNotFoundError",
          "evalue": "ignored",
          "traceback": [
            "\u001b[0;31m---------------------------------------------------------------------------\u001b[0m",
            "\u001b[0;31mFileNotFoundError\u001b[0m                         Traceback (most recent call last)",
            "\u001b[0;32m<ipython-input-2-c5b06a76173f>\u001b[0m in \u001b[0;36m<module>\u001b[0;34m()\u001b[0m\n\u001b[1;32m      1\u001b[0m \u001b[0;32mimport\u001b[0m \u001b[0mos\u001b[0m\u001b[0;34m\u001b[0m\u001b[0;34m\u001b[0m\u001b[0m\n\u001b[0;32m----> 2\u001b[0;31m \u001b[0mos\u001b[0m\u001b[0;34m.\u001b[0m\u001b[0mchdir\u001b[0m\u001b[0;34m(\u001b[0m\u001b[0;34m'./lyrics_overlay'\u001b[0m\u001b[0;34m)\u001b[0m\u001b[0;34m\u001b[0m\u001b[0;34m\u001b[0m\u001b[0m\n\u001b[0m",
            "\u001b[0;31mFileNotFoundError\u001b[0m: [Errno 2] No such file or directory: './lyrics_overlay'"
          ]
        }
      ]
    },
    {
      "cell_type": "code",
      "metadata": {
        "id": "7sCbnAGQGWkb"
      },
      "source": [
        "import matplotlib.pyplot as plt\n",
        "import numpy as np\n",
        "from scipy.optimize import differential_evolution\n",
        "\n",
        "from typing import Tuple, Iterable\n",
        "from lib.defs import Box, Point, Lyrics, LineSegment\n",
        "from utils.utils import text_fits_box\n",
        "from utils.utils import\tis_lyrics_box_overlaps_person_box\n",
        "from utils.utils import get_distance_between_boxes\n",
        "from utils.utils import get_distance_from_image_edges"
      ],
      "execution_count": null,
      "outputs": []
    },
    {
      "cell_type": "code",
      "metadata": {
        "id": "JSaeAF8sGauZ"
      },
      "source": [
        "# define loss/cost function\n",
        "def get_loss(x,  # diagonal coords only,\n",
        "\t\t\t binary_mask: np.ndarray,\n",
        "\t\t\t person_boxes: Iterable[Box],\n",
        "\t\t\t text: Lyrics,\n",
        "\t\t\t font_size: int = 1,  # this should be varied from outside\n",
        "\t\t\t ) -> float:\n",
        "\n",
        "\ttry:\n",
        "\t\tlyrics_box = Box(first_diagonal_coords=Point(coords=(x[0], x[1])),\n",
        "\t\t\t\t\t\t second_diagonal_coords=Point(coords=(x[2], x[3])))\n",
        "\t\t# TODO: why not exclude certain solutions before triggering the opti algo for faster convergence\n",
        "\t\tif not text_fits_box(text, font_size=1, box=lyrics_box, form=2):\n",
        "\t\t\tloss = 1000\n",
        "\t\telif any([is_lyrics_box_overlaps_person_box(lyrics_box, person_box) for person_box in person_boxes]):\n",
        "\t\t\tloss = 1000\n",
        "\t\telse:\n",
        "\t\t\tw1 = 0.50\n",
        "\t\t\tw2 = 0.50\n",
        "\t\t\t# include the following:\n",
        "\t\t\t# distance from all person-boxes - w1\n",
        "\n",
        "\t\t\t# iterate over all the edges of all person-boxes and find the distances of them from the lyrics-box\n",
        "\t\t\tif len(person_boxes):\n",
        "\t\t\t\tdistance_persons = tuple([get_distance_between_boxes(person_box, lyrics_box) for person_box in person_boxes])\n",
        "\t\t\telse:\n",
        "\t\t\t\tdistance_persons = tuple([])\n",
        "\n",
        "\t\t\t# balance_1 = np.nan_to_num(np.var(distance_persons))\n",
        "\n",
        "\n",
        "\t\t\t# distance from all 4 edges - w2\n",
        "\t\t\tdistance_edges = get_distance_from_image_edges(binary_mask, lyrics_box)\n",
        "\t\t\t# print(distance_persons, distance_edges)\n",
        "\n",
        "\t\t\t# balance_2 = np.var(distance_edges)\n",
        "\n",
        "\t\t\t# loss = w1*balance_1 + w2*balance_2\n",
        "\t\t\tloss = np.var(distance_edges+distance_persons)\n",
        "\texcept AssertionError as ex:\n",
        "\t\tloss = 1000\n",
        "\n",
        "\treturn loss"
      ],
      "execution_count": null,
      "outputs": []
    },
    {
      "cell_type": "code",
      "metadata": {
        "id": "XY2DnGz3GdlN"
      },
      "source": [
        "binary_mask_0 = np.zeros([100, 100])\n",
        "plt.imshow(binary_mask_0)"
      ],
      "execution_count": null,
      "outputs": []
    },
    {
      "cell_type": "code",
      "metadata": {
        "id": "75_05siwGf-8"
      },
      "source": [
        "binary_mask_1 = np.zeros([100, 100])\n",
        "binary_mask_1[40:60, 60:80] = 1\n",
        "plt.imshow(binary_mask_1)"
      ],
      "execution_count": null,
      "outputs": []
    },
    {
      "cell_type": "code",
      "metadata": {
        "id": "yVQlyrq3GhlZ"
      },
      "source": [
        "binary_mask_2 = np.zeros([100, 100])\n",
        "binary_mask_2[10:30, 10:30] = 1\n",
        "binary_mask_2[40:60, 40:60] = 1\n",
        "binary_mask_2[70:90, 70:90] = 1\n",
        "plt.imshow(binary_mask_2)"
      ],
      "execution_count": null,
      "outputs": []
    },
    {
      "cell_type": "code",
      "metadata": {
        "id": "A8TOql1yGjK1"
      },
      "source": [
        "binary_mask_3 = np.zeros([100, 100])\n",
        "binary_mask_3[20:60, 10:40] = 1\n",
        "binary_mask_3[10:30, 65:85] = 1\n",
        "binary_mask_3[70:90, 50:70] = 1\n",
        "plt.imshow(binary_mask_3)"
      ],
      "execution_count": null,
      "outputs": []
    },
    {
      "cell_type": "code",
      "metadata": {
        "id": "0rdsUMfnGkzr"
      },
      "source": [
        "binary_mask_4 = np.zeros([100, 100])\n",
        "binary_mask_4[20:80, 10:25] = 1\n",
        "binary_mask_4[20:80, 47:52] = 1\n",
        "binary_mask_4[20:80, 70:85] = 1\n",
        "plt.imshow(binary_mask_4)"
      ],
      "execution_count": null,
      "outputs": []
    },
    {
      "cell_type": "code",
      "metadata": {
        "id": "luqHDbd4Gmj1"
      },
      "source": [
        "# hyper parameters\n",
        "lyrics = Lyrics(\"I love you I love you I love you I love you\")\n",
        "limits = (\n",
        "\t\t(0,100),\n",
        "\t\t(0,100),\n",
        "\t\t(0,100),\n",
        "\t\t(0,100)\n",
        "\t)\n",
        "# persons_0 = ()\n",
        "# persons_1 = (\n",
        "# \t\tBox(first_diagonal_coords=Point(coords=(60,40)), second_diagonal_coords=Point(coords=(80,60))),\n",
        "# \t)\n",
        "persons_2 = (\n",
        "\t\tBox(first_diagonal_coords=Point(coords=(10,10)), second_diagonal_coords=Point(coords=(30,30))),\n",
        "\t\tBox(first_diagonal_coords=Point(coords=(40,40)), second_diagonal_coords=Point(coords=(60,60))),\n",
        "\t\tBox(first_diagonal_coords=Point(coords=(70,70)), second_diagonal_coords=Point(coords=(90,90)))\n",
        "\t)\n",
        "# persons_3 = (\n",
        "# \t\tBox(first_diagonal_coords=Point(coords=(10,20)), second_diagonal_coords=Point(coords=(25,80))),\n",
        "# \t\tBox(first_diagonal_coords=Point(coords=(47,20)), second_diagonal_coords=Point(coords=(52,80))),\n",
        "# \t\tBox(first_diagonal_coords=Point(coords=(70,20)), second_diagonal_coords=Point(coords=(85,80)))\n",
        "# \t)\n",
        "# persons_4 = (\n",
        "# \t\tBox(first_diagonal_coords=Point(coords=(10,20)), second_diagonal_coords=Point(coords=(25,80))),\n",
        "# \t\tBox(first_diagonal_coords=Point(coords=(47,20)), second_diagonal_coords=Point(coords=(52,80))),\n",
        "# \t\tBox(first_diagonal_coords=Point(coords=(70,20)), second_diagonal_coords=Point(coords=(85,80)))\n",
        "# \t)"
      ],
      "execution_count": null,
      "outputs": []
    },
    {
      "cell_type": "code",
      "metadata": {
        "id": "TRlryrdTGo4Y"
      },
      "source": [
        "def overlay_box_on_image(box: Box,\n",
        "                        image: np.ndarray):\n",
        "    image[box.y1:box.y3, box.x1:box.x3] = -1\n",
        "    plt.imshow(image)"
      ],
      "execution_count": null,
      "outputs": []
    },
    {
      "cell_type": "code",
      "metadata": {
        "id": "E7qfcpMsGqgC"
      },
      "source": [
        "res = differential_evolution(get_loss,\n",
        "\t\t\t\t\t\t\t\t bounds=limits,\n",
        "\t\t\t\t\t\t\t\t args=(binary_mask_2, persons_2, lyrics)\n",
        "\t\t\t\t\t\t\t\t )\n",
        "optimal_box = Box(first_diagonal_coords=Point((res.x[0], res.x[1])),\n",
        "\t\t\t\t  second_diagonal_coords=Point((res.x[2], res.x[3])))"
      ],
      "execution_count": null,
      "outputs": []
    },
    {
      "cell_type": "code",
      "metadata": {
        "id": "iQkQIKGQGsRH"
      },
      "source": [
        "res"
      ],
      "execution_count": null,
      "outputs": []
    },
    {
      "cell_type": "code",
      "metadata": {
        "id": "0ydZxBp1Gt9-"
      },
      "source": [
        "overlay_box_on_image(optimal_box, binary_mask_2)"
      ],
      "execution_count": null,
      "outputs": []
    }
  ]
}
