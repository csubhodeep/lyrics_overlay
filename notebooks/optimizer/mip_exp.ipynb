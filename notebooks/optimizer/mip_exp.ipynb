{
 "cells": [
  {
   "cell_type": "code",
   "execution_count": 22,
   "metadata": {},
   "outputs": [],
   "source": [
    "import numpy as np\n",
    "from defs import Box, Point\n",
    "from scipy.optimize import differential_evolution, Bounds, NonlinearConstraint\n",
    "import matplotlib.pyplot as plt\n",
    "from typing import Tuple, List\n",
    "from math import sqrt\n",
    "from statistics import variance"
   ]
  },
  {
   "cell_type": "code",
   "execution_count": 7,
   "metadata": {},
   "outputs": [],
   "source": [
    "def get_norm_distance_from_image_edges(\n",
    "    canvas_shape: Tuple[int, int], box: Box\n",
    ") -> List[float]:\n",
    "\n",
    "    canvas_diag_length = sqrt(canvas_shape[0] ** 2 + canvas_shape[1] ** 2)\n",
    "\n",
    "    distance_edge_1 = box.vertex_1.x / canvas_diag_length\n",
    "    distance_edge_2 = (canvas_shape[1] - box.vertex_3.x) / canvas_diag_length\n",
    "    distance_edge_3 = box.vertex_1.y / canvas_diag_length\n",
    "    distance_edge_4 = (canvas_shape[0] - box.vertex_3.y) / canvas_diag_length\n",
    "\n",
    "    return [distance_edge_1, distance_edge_2, distance_edge_3, distance_edge_4]\n",
    "\n",
    "def get_overlapping_area(box_1: Box, box_2: Box) -> int:\n",
    "\n",
    "    if not box_1.is_overlapping(box_2):\n",
    "        return 0\n",
    "\n",
    "    # make overlap box\n",
    "    x1 = max(box_1.vertex_1.x, box_2.vertex_1.x)\n",
    "    y1 = max(box_1.vertex_1.y, box_2.vertex_1.y)\n",
    "    x3 = min(box_1.vertex_3.x, box_2.vertex_3.x)\n",
    "    y3 = min(box_1.vertex_3.y, box_2.vertex_3.y)\n",
    "\n",
    "    try:\n",
    "        return Box(\n",
    "            first_diagonal_coords=Point((x1, y1)),\n",
    "            second_diagonal_coords=Point((x3, y3)),\n",
    "        ).area\n",
    "    except AssertionError:\n",
    "        # there are only 2 cases when the above fail -\n",
    "        # if the two boxes touch each other with a line or a point\n",
    "        return 0"
   ]
  },
  {
   "cell_type": "code",
   "execution_count": 302,
   "metadata": {},
   "outputs": [],
   "source": [
    "persons = (\n",
    "    \tBox(first_diagonal_coords=Point(coords=(10, 20)), second_diagonal_coords=Point(coords=(40, 60))),\n",
    "    \tBox(first_diagonal_coords=Point(coords=(65, 10)), second_diagonal_coords=Point(coords=(85, 30))),\n",
    "    \tBox(first_diagonal_coords=Point(coords=(50, 70)), second_diagonal_coords=Point(coords=(70, 90)))\n",
    "    )"
   ]
  },
  {
   "cell_type": "code",
   "execution_count": 303,
   "metadata": {},
   "outputs": [],
   "source": [
    "canvas = np.ones([100,100])"
   ]
  },
  {
   "cell_type": "code",
   "execution_count": 304,
   "metadata": {},
   "outputs": [],
   "source": [
    "for person in persons:\n",
    "    canvas = person.overlay_on_image(canvas)"
   ]
  },
  {
   "cell_type": "code",
   "execution_count": 305,
   "metadata": {},
   "outputs": [
    {
     "data": {
      "text/plain": [
       "<matplotlib.image.AxesImage at 0x7fd652b16d30>"
      ]
     },
     "execution_count": 305,
     "metadata": {},
     "output_type": "execute_result"
    },
    {
     "data": {
      "image/png": "[encoded data removed]",
      "text/plain": [
       "<Figure size 288x288 with 1 Axes>"
      ]
     },
     "metadata": {
      "needs_background": "light"
     },
     "output_type": "display_data"
    }
   ],
   "source": [
    "plt.matshow(canvas)"
   ]
  },
  {
   "cell_type": "code",
   "execution_count": 55,
   "metadata": {},
   "outputs": [],
   "source": [
    "def get_constraints(\n",
    "    canvas_height: int, canvas_width: int\n",
    ") -> Tuple[NonlinearConstraint, ...]:\n",
    "\n",
    "    # these constraints emulate the behaviour of `is_box_big_enough` function\n",
    "    min_box_width_constraint = lambda x: (x[2] - x[0])\n",
    "    min_box_height_constraint = lambda x: (x[3] - x[1])\n",
    "    nlc3 = NonlinearConstraint(\n",
    "        min_box_width_constraint, 0.25 * canvas_width, canvas_width\n",
    "    )\n",
    "    nlc4 = NonlinearConstraint(\n",
    "        min_box_height_constraint, 0.10 * canvas_height, canvas_height\n",
    "    )\n",
    "\n",
    "    # this is to signal the solver that every tried-solution (i.e. `x`) in a population\n",
    "    # and for every iteration (`generation` in case of DE) should be very close to an integer\n",
    "    # currently it is not being used as it slows down the opti\n",
    "    # integer_coords_constraint = lambda x: sum(abs(np.round(x) - x))\n",
    "    # nlc6 = NonlinearConstraint(integer_coords_constraint, -1e-6, 1e-6)\n",
    "\n",
    "    return nlc3, nlc4"
   ]
  },
  {
   "cell_type": "code",
   "execution_count": 56,
   "metadata": {},
   "outputs": [],
   "source": [
    "limits = (\n",
    "            (0, canvas.shape[1]),\n",
    "            (0, canvas.shape[0]),\n",
    "            (0, canvas.shape[1]),\n",
    "            (0, canvas.shape[0]),\n",
    "        )        "
   ]
  },
  {
   "cell_type": "code",
   "execution_count": 294,
   "metadata": {},
   "outputs": [],
   "source": [
    "class LossFunctionParameters:\n",
    "    OVERLAP_WEIGHTAGE: float = 0.5\n",
    "    MIN_DISTANCE_WEIGHTAGE: float = 0.4\n",
    "    UNIFORM_DISTANCE_WEIGHTAGE: float = 0.05\n",
    "    BOX_AREA_WEIGHTAGE: float = 0.05\n",
    "#     MAXIMUM_LOSS_THRESHOLD: float = 3"
   ]
  },
  {
   "cell_type": "code",
   "execution_count": 295,
   "metadata": {},
   "outputs": [],
   "source": [
    "def get_loss(\n",
    "    x, canvas_shape: Tuple[int, int], forbidden_zones: Tuple[Box, ...]\n",
    ") -> float:\n",
    "    lyrics_box = Box(\n",
    "        first_diagonal_coords=Point(coords=(x[0], x[1])),\n",
    "        second_diagonal_coords=Point(coords=(x[2], x[3])),\n",
    "    )\n",
    "\n",
    "    total_overlapping_area = sum(\n",
    "        [\n",
    "            get_overlapping_area(lyrics_box, zone)\n",
    "            / (canvas_shape[0] * canvas_shape[1])\n",
    "            for zone in forbidden_zones\n",
    "        ]\n",
    "    )\n",
    "\n",
    "    # # include the following:\n",
    "    # # distance from all person-boxes - w1\n",
    "\n",
    "    # # iterate over all the edges of all person-boxes and find the distances of them from the lyrics-box\n",
    "    if len(forbidden_zones):\n",
    "        norm_distance_persons = tuple(\n",
    "            [\n",
    "                lyrics_box.get_distance_from(zone)\n",
    "                / sqrt(canvas_shape[0] ** 2 + canvas_shape[1] ** 2)\n",
    "                for zone in forbidden_zones\n",
    "            ]\n",
    "        )\n",
    "    else:\n",
    "        norm_distance_persons = tuple([])\n",
    "\n",
    "    # # distance from all 4 edges - w2\n",
    "    norm_distance_edges = get_norm_distance_from_image_edges(canvas_shape, lyrics_box)\n",
    "\n",
    "    all_norm_distances = tuple(norm_distance_edges) + norm_distance_persons\n",
    "\n",
    "    norm_lyrics_box_area = lyrics_box.area / (canvas_shape[0] * canvas_shape[1])\n",
    "        \n",
    "    min_norm_distance_persons = 1e-6 if min(all_norm_distances) == 0 else min(all_norm_distances)\n",
    "\n",
    "    return (\n",
    "        LossFunctionParameters.UNIFORM_DISTANCE_WEIGHTAGE * sqrt(variance(all_norm_distances))\n",
    "        + LossFunctionParameters.BOX_AREA_WEIGHTAGE * (1 / sqrt(norm_lyrics_box_area))\n",
    "        + LossFunctionParameters.OVERLAP_WEIGHTAGE * sqrt(total_overlapping_area)\n",
    "        + LossFunctionParameters.MIN_DISTANCE_WEIGHTAGE / min_norm_distance_persons\n",
    "    )"
   ]
  },
  {
   "cell_type": "code",
   "execution_count": 306,
   "metadata": {
    "scrolled": true
   },
   "outputs": [
    {
     "name": "stdout",
     "output_type": "stream",
     "text": [
      "differential_evolution step 1: f(x)= 400000\n",
      "differential_evolution step 2: f(x)= 28.4635\n",
      "differential_evolution step 3: f(x)= 28.4635\n",
      "differential_evolution step 4: f(x)= 28.4635\n",
      "differential_evolution step 5: f(x)= 19.089\n",
      "differential_evolution step 6: f(x)= 9.69794\n",
      "differential_evolution step 7: f(x)= 9.69794\n",
      "differential_evolution step 8: f(x)= 9.69794\n",
      "differential_evolution step 9: f(x)= 5.40834\n",
      "differential_evolution step 10: f(x)= 4.99746\n",
      "differential_evolution step 11: f(x)= 4.99746\n",
      "differential_evolution step 12: f(x)= 4.99149\n",
      "differential_evolution step 13: f(x)= 4.99149\n",
      "differential_evolution step 14: f(x)= 4.99149\n",
      "differential_evolution step 15: f(x)= 4.35135\n",
      "differential_evolution step 16: f(x)= 4.315\n",
      "differential_evolution step 17: f(x)= 4.315\n",
      "differential_evolution step 18: f(x)= 4.315\n",
      "differential_evolution step 19: f(x)= 4.315\n",
      "differential_evolution step 20: f(x)= 4.315\n",
      "differential_evolution step 21: f(x)= 4.315\n",
      "differential_evolution step 22: f(x)= 4.315\n",
      "differential_evolution step 23: f(x)= 4.315\n",
      "differential_evolution step 24: f(x)= 4.07129\n",
      "differential_evolution step 25: f(x)= 4.07129\n",
      "differential_evolution step 26: f(x)= 4.07129\n",
      "differential_evolution step 27: f(x)= 4.07129\n",
      "differential_evolution step 28: f(x)= 4.07129\n",
      "differential_evolution step 29: f(x)= 4.06632\n",
      "differential_evolution step 30: f(x)= 4.06632\n",
      "differential_evolution step 31: f(x)= 4.06632\n",
      "differential_evolution step 32: f(x)= 4.06632\n",
      "differential_evolution step 33: f(x)= 4.06632\n",
      "differential_evolution step 34: f(x)= 4.06632\n",
      "differential_evolution step 35: f(x)= 4.06632\n",
      "differential_evolution step 36: f(x)= 4.06632\n",
      "differential_evolution step 37: f(x)= 4.06632\n",
      "differential_evolution step 38: f(x)= 4.06632\n",
      "differential_evolution step 39: f(x)= 4.06632\n",
      "differential_evolution step 40: f(x)= 4.06632\n",
      "differential_evolution step 41: f(x)= 4.06632\n",
      "differential_evolution step 42: f(x)= 4.06632\n",
      "differential_evolution step 43: f(x)= 4.06632\n",
      "differential_evolution step 44: f(x)= 4.06632\n",
      "differential_evolution step 45: f(x)= 4.06632\n",
      "differential_evolution step 46: f(x)= 4.06632\n",
      "differential_evolution step 47: f(x)= 4.06632\n",
      "differential_evolution step 48: f(x)= 4.06632\n",
      "differential_evolution step 49: f(x)= 4.06632\n",
      "differential_evolution step 50: f(x)= 4.06632\n",
      "differential_evolution step 51: f(x)= 4.06632\n",
      "differential_evolution step 52: f(x)= 4.06632\n",
      "differential_evolution step 53: f(x)= 4.06632\n",
      "differential_evolution step 54: f(x)= 4.06632\n",
      "differential_evolution step 55: f(x)= 4.06632\n",
      "differential_evolution step 56: f(x)= 4.06632\n",
      "differential_evolution step 57: f(x)= 4.06632\n"
     ]
    }
   ],
   "source": [
    "res = differential_evolution(\n",
    "                get_loss,\n",
    "                bounds=limits,\n",
    "                args=(canvas.shape, persons),\n",
    "                popsize=15,\n",
    "                constraints=get_constraints(canvas.shape[0], canvas.shape[1]),\n",
    "                disp=True\n",
    "            )"
   ]
  },
  {
   "cell_type": "code",
   "execution_count": 307,
   "metadata": {},
   "outputs": [],
   "source": [
    "optimal_box = Box(first_diagonal_coords=Point((res.x[0], res.x[1])),\n",
    "                  second_diagonal_coords=Point((res.x[2], res.x[3])))"
   ]
  },
  {
   "cell_type": "code",
   "execution_count": 308,
   "metadata": {},
   "outputs": [
    {
     "data": {
      "text/plain": [
       "<matplotlib.image.AxesImage at 0x7fd652af9a90>"
      ]
     },
     "execution_count": 308,
     "metadata": {},
     "output_type": "execute_result"
    },
    {
     "data": {
      "image/png": "[encoded data removed]",
      "text/plain": [
       "<Figure size 288x288 with 1 Axes>"
      ]
     },
     "metadata": {
      "needs_background": "light"
     },
     "output_type": "display_data"
    }
   ],
   "source": [
    "plt.matshow(optimal_box.overlay_on_image(canvas))"
   ]
  },
  {
   "cell_type": "code",
   "execution_count": null,
   "metadata": {},
   "outputs": [],
   "source": []
  },
  {
   "cell_type": "code",
   "execution_count": null,
   "metadata": {},
   "outputs": [],
   "source": []
  }
 ],
 "metadata": {
  "kernelspec": {
   "display_name": "mip_exp_env",
   "language": "python",
   "name": "mip_exp_env"
  },
  "language_info": {
   "codemirror_mode": {
    "name": "ipython",
    "version": 3
   },
   "file_extension": ".py",
   "mimetype": "text/x-python",
   "name": "python",
   "nbconvert_exporter": "python",
   "pygments_lexer": "ipython3",
   "version": "3.8.10"
  }
 },
 "nbformat": 4,
 "nbformat_minor": 4
}
